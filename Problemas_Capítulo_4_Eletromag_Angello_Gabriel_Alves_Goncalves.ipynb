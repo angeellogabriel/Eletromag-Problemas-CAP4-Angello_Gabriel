{
  "nbformat": 4,
  "nbformat_minor": 0,
  "metadata": {
    "colab": {
      "provenance": [],
      "authorship_tag": "ABX9TyMCMqv+QmlZlxZOiRwuV+Wu",
      "include_colab_link": true
    },
    "kernelspec": {
      "name": "python3",
      "display_name": "Python 3"
    },
    "language_info": {
      "name": "python"
    }
  },
  "cells": [
    {
      "cell_type": "markdown",
      "metadata": {
        "id": "view-in-github",
        "colab_type": "text"
      },
      "source": [
        "<a href=\"https://colab.research.google.com/github/angeellogabriel/Eletromag-Problemas-CAP4-Angello_Gabriel/blob/main/Problemas_Cap%C3%ADtulo_4_Eletromag_Angello_Gabriel_Alves_Goncalves.ipynb\" target=\"_parent\"><img src=\"https://colab.research.google.com/assets/colab-badge.svg\" alt=\"Open In Colab\"/></a>"
      ]
    },
    {
      "cell_type": "markdown",
      "source": [
        "Problemas Capítulo 4 - Eletromag - Angello Gabriel Alves Gonçalves"
      ],
      "metadata": {
        "id": "Ybs1V1CA6Lui"
      }
    },
    {
      "cell_type": "code",
      "execution_count": 47,
      "metadata": {
        "colab": {
          "base_uri": "https://localhost:8080/"
        },
        "id": "N3PGwKZmv_nc",
        "outputId": "3b2a0932-aa04-4037-bd48-c7ac24f0bf2d"
      },
      "outputs": [
        {
          "output_type": "stream",
          "name": "stdout",
          "text": [
            "Força de Q1: 2307.69230769231 N\n"
          ]
        }
      ],
      "source": [
        "#PROBLEMA 4.1\n",
        "import sympy as sp\n",
        "\n",
        "k = 9 * 10**9\n",
        "Q1 = 5 * 10**-3\n",
        "Q2 = -4 * 10**-3\n",
        "posicao_Q1 = (3, 2, 1)\n",
        "posicao_Q2 = (-4, 0, 6)\n",
        "\n",
        "x1, y1, z1 = sp.symbols('x1 y1 z1')\n",
        "x2, y2, z2 = sp.symbols('x2 y2 z2')\n",
        "\n",
        "posicao_expr_Q1 = (x1, y1, z1)\n",
        "posicao_expr_Q2 = (x2, y2, z2)\n",
        "\n",
        "#distancia entre as cargas\n",
        "dx = x2 - x1\n",
        "dy = y2 - y1\n",
        "dz = z2 - z1\n",
        "\n",
        "#pitágoras\n",
        "r = sp.sqrt(dx**2 + dy**2 + dz**2)\n",
        "\n",
        "#força elétrica\n",
        "forca_elet = (k * sp.Abs(Q1 * Q2)) / (r**2)\n",
        "\n",
        "forca_valor = forca_elet.subs([(x1, posicao_Q1[0]), (y1, posicao_Q1[1]), (z1, posicao_Q1[2]),\n",
        "                              (x2, posicao_Q2[0]), (y2, posicao_Q2[1]), (z2, posicao_Q2[2]),\n",
        "                              (Q1, Q1), (Q2, Q2)])\n",
        "\n",
        "print(\"Força de Q1:\", forca_valor, \"N\")"
      ]
    },
    {
      "cell_type": "code",
      "source": [
        "#PROBLEMA 4.5\n",
        "#a)\n",
        "import sympy as sp\n",
        "\n",
        "x = sp.symbols('x')\n",
        "\n",
        "rho_L = 12 * x**2\n",
        "\n",
        "x_min = 0\n",
        "x_max = 5\n",
        "\n",
        "carga_total = sp.integrate(rho_L, (x, x_min, x_max))\n",
        "print(\"Carga total sobre a linha:\", carga_total, \"mC\")"
      ],
      "metadata": {
        "colab": {
          "base_uri": "https://localhost:8080/"
        },
        "id": "3j8gs8qe0paD",
        "outputId": "70498c3e-e56c-4344-edfb-6a89a27d475e"
      },
      "execution_count": 48,
      "outputs": [
        {
          "output_type": "stream",
          "name": "stdout",
          "text": [
            "Carga total sobre a linha: 500 mC\n"
          ]
        }
      ]
    },
    {
      "cell_type": "code",
      "source": [
        "#b)\n",
        "import sympy as sp\n",
        "\n",
        "z = sp.Symbol('z')\n",
        "\n",
        "rho_s = 3 * z**2\n",
        "\n",
        "z_min = 0\n",
        "z_max = 4\n",
        "\n",
        "carga_total = sp.integrate(rho_s, (z, z_min, z_max))\n",
        "print(\"Carga total sobre o cilindro:\", carga_total, \"nC\")"
      ],
      "metadata": {
        "colab": {
          "base_uri": "https://localhost:8080/"
        },
        "id": "CnDCOGEY1Mjj",
        "outputId": "5abc8859-89f7-4e90-8a3c-c66fc57986b8"
      },
      "execution_count": 49,
      "outputs": [
        {
          "output_type": "stream",
          "name": "stdout",
          "text": [
            "Carga total sobre o cilindro: 64 nC\n"
          ]
        }
      ]
    },
    {
      "cell_type": "code",
      "source": [
        "#c)\n",
        "import sympy as sp\n",
        "\n",
        "r, theta, phi = sp.symbols('r theta phi')\n",
        "\n",
        "R = 4\n",
        "\n",
        "rho_v = 10 / r * sp.sin(theta)\n",
        "\n",
        "dV = r**2 * sp.sin(theta) * sp.diff(r) * sp.diff(theta) * sp.diff(phi)\n",
        "\n",
        "Q = sp.integrate(sp.integrate(sp.integrate(rho_v * dV, (phi, 0, 2*sp.pi)), (theta, 0, sp.pi)), (r, 0, R))\n",
        "Q = sp.simplify(Q)\n",
        "print(\"Carga total dentro da esfera:\")\n",
        "display(Q)"
      ],
      "metadata": {
        "colab": {
          "base_uri": "https://localhost:8080/",
          "height": 56
        },
        "id": "1C9kqMU81kdy",
        "outputId": "2391d6ef-d148-4ff5-8ed0-96d3f3b98beb"
      },
      "execution_count": 50,
      "outputs": [
        {
          "output_type": "stream",
          "name": "stdout",
          "text": [
            "Carga total dentro da esfera:\n"
          ]
        },
        {
          "output_type": "display_data",
          "data": {
            "text/plain": [
              "80*pi**2"
            ],
            "text/latex": "$\\displaystyle 80 \\pi^{2}$"
          },
          "metadata": {}
        }
      ]
    },
    {
      "cell_type": "code",
      "source": [
        "#PROBLEMA 4.25\n",
        "import sympy as sp\n",
        "\n",
        "x, y, z = sp.symbols('x y z')\n",
        "\n",
        "E = sp.Matrix([x, z**2, 2*y*z])\n",
        "P = sp.Matrix([1, 2, -4])\n",
        "R = sp.Matrix([3, -5, 6])\n",
        "\n",
        "t = sp.symbols('t')\n",
        "trajetoria = P + (R - P) * t\n",
        "\n",
        "dl = sp.diff(trajetoria, t)\n",
        "\n",
        "W = sp.integrate(E.dot(dl), (t, 0, 1))\n",
        "print(\"Trabalho realizado:\")\n",
        "display(W)"
      ],
      "metadata": {
        "colab": {
          "base_uri": "https://localhost:8080/",
          "height": 56
        },
        "id": "Zv9TbGqz2e7U",
        "outputId": "aa647f0d-3d11-4ae0-cf36-25aa21446bae"
      },
      "execution_count": 51,
      "outputs": [
        {
          "output_type": "stream",
          "name": "stdout",
          "text": [
            "Trabalho realizado:\n"
          ]
        },
        {
          "output_type": "display_data",
          "data": {
            "text/plain": [
              "2*x + 20*y*z - 7*z**2"
            ],
            "text/latex": "$\\displaystyle 2 x + 20 y z - 7 z^{2}$"
          },
          "metadata": {}
        }
      ]
    },
    {
      "cell_type": "code",
      "source": [
        "#PROBLEMA 4.29\n",
        "#a)\n",
        "import sympy as sp\n",
        "\n",
        "x, y, z = sp.symbols('x y z')\n",
        "\n",
        "V = x**2 + 2*y**2 + 4*z**2\n",
        "grad_V = sp.Matrix([sp.diff(V, x), sp.diff(V, y), sp.diff(V, z)])\n",
        "F = -grad_V\n",
        "\n",
        "print(\"Campo elétrico:\")\n",
        "F"
      ],
      "metadata": {
        "colab": {
          "base_uri": "https://localhost:8080/",
          "height": 95
        },
        "id": "ds11PCzv3PvL",
        "outputId": "4b3e7205-14d6-4dfb-9097-75637b8ca207"
      },
      "execution_count": 52,
      "outputs": [
        {
          "output_type": "stream",
          "name": "stdout",
          "text": [
            "Campo elétrico:\n"
          ]
        },
        {
          "output_type": "execute_result",
          "data": {
            "text/plain": [
              "Matrix([\n",
              "[-2*x],\n",
              "[-4*y],\n",
              "[-8*z]])"
            ],
            "text/latex": "$\\displaystyle \\left[\\begin{matrix}- 2 x\\\\- 4 y\\\\- 8 z\\end{matrix}\\right]$"
          },
          "metadata": {},
          "execution_count": 52
        }
      ]
    },
    {
      "cell_type": "code",
      "source": [
        "#b)\n",
        "import sympy as sp\n",
        "\n",
        "x, y, z = sp.symbols('x y z')\n",
        "\n",
        "V = sp.sin(x**2 + y**2 + z**2)**(1/2)\n",
        "\n",
        "grad_V = sp.Matrix([sp.diff(V, x), sp.diff(V, y), sp.diff(V, z)])\n",
        "\n",
        "E = -grad_V\n",
        "print(\"Campo elétrico:\")\n",
        "E"
      ],
      "metadata": {
        "colab": {
          "base_uri": "https://localhost:8080/",
          "height": 128
        },
        "id": "7jIWdfa44Fhz",
        "outputId": "fe403b26-0210-4297-8881-c282e2f45f20"
      },
      "execution_count": 53,
      "outputs": [
        {
          "output_type": "stream",
          "name": "stdout",
          "text": [
            "Campo elétrico:\n"
          ]
        },
        {
          "output_type": "execute_result",
          "data": {
            "text/plain": [
              "Matrix([\n",
              "[-1.0*x*cos(x**2 + y**2 + z**2)/sin(x**2 + y**2 + z**2)**0.5],\n",
              "[-1.0*y*cos(x**2 + y**2 + z**2)/sin(x**2 + y**2 + z**2)**0.5],\n",
              "[-1.0*z*cos(x**2 + y**2 + z**2)/sin(x**2 + y**2 + z**2)**0.5]])"
            ],
            "text/latex": "$\\displaystyle \\left[\\begin{matrix}- \\frac{1.0 x \\cos{\\left(x^{2} + y^{2} + z^{2} \\right)}}{\\sin^{0.5}{\\left(x^{2} + y^{2} + z^{2} \\right)}}\\\\- \\frac{1.0 y \\cos{\\left(x^{2} + y^{2} + z^{2} \\right)}}{\\sin^{0.5}{\\left(x^{2} + y^{2} + z^{2} \\right)}}\\\\- \\frac{1.0 z \\cos{\\left(x^{2} + y^{2} + z^{2} \\right)}}{\\sin^{0.5}{\\left(x^{2} + y^{2} + z^{2} \\right)}}\\end{matrix}\\right]$"
          },
          "metadata": {},
          "execution_count": 53
        }
      ]
    },
    {
      "cell_type": "code",
      "source": [
        "#c\n",
        "import sympy as sp\n",
        "\n",
        "rho, phi, z = sp.symbols('rho phi z')\n",
        "\n",
        "V = rho**2 * (z+1) * sp.sin(phi)\n",
        "\n",
        "grad_V = sp.Matrix([sp.diff(V, rho), (1/rho) * sp.diff(V, phi), sp.diff(V, z)])\n",
        "J = -grad_V\n",
        "print(\"Campo elétrico:\")\n",
        "display(J)"
      ],
      "metadata": {
        "colab": {
          "base_uri": "https://localhost:8080/",
          "height": 95
        },
        "id": "Di87-wI-5gH6",
        "outputId": "445d397f-8f8e-4d6e-c906-1a2420994d6e"
      },
      "execution_count": 54,
      "outputs": [
        {
          "output_type": "stream",
          "name": "stdout",
          "text": [
            "Campo elétrico:\n"
          ]
        },
        {
          "output_type": "display_data",
          "data": {
            "text/plain": [
              "Matrix([\n",
              "[-2*rho*(z + 1)*sin(phi)],\n",
              "[  -rho*(z + 1)*cos(phi)],\n",
              "[       -rho**2*sin(phi)]])"
            ],
            "text/latex": "$\\displaystyle \\left[\\begin{matrix}- 2 \\rho \\left(z + 1\\right) \\sin{\\left(\\phi \\right)}\\\\- \\rho \\left(z + 1\\right) \\cos{\\left(\\phi \\right)}\\\\- \\rho^{2} \\sin{\\left(\\phi \\right)}\\end{matrix}\\right]$"
          },
          "metadata": {}
        }
      ]
    },
    {
      "cell_type": "code",
      "source": [
        "#d)\n",
        "import sympy as sp\n",
        "\n",
        "r, theta, phi = sp.symbols('r theta phi')\n",
        "\n",
        "V = sp.exp(-r) * sp.sin(theta) * sp.cos(2*phi)\n",
        "\n",
        "B = -sp.Matrix([sp.diff(V, r), (1/r) * sp.diff(V, theta), (1/(r*sp.sin(theta))) * sp.diff(V, phi)])\n",
        "\n",
        "print(\"Campo elétrico:\")\n",
        "display(B)"
      ],
      "metadata": {
        "colab": {
          "base_uri": "https://localhost:8080/",
          "height": 106
        },
        "id": "Nd44QHcn4n6L",
        "outputId": "7b129db3-e55f-406b-ac10-751622e7bdf4"
      },
      "execution_count": 55,
      "outputs": [
        {
          "output_type": "stream",
          "name": "stdout",
          "text": [
            "Campo elétrico:\n"
          ]
        },
        {
          "output_type": "display_data",
          "data": {
            "text/plain": [
              "Matrix([\n",
              "[   exp(-r)*sin(theta)*cos(2*phi)],\n",
              "[-exp(-r)*cos(2*phi)*cos(theta)/r],\n",
              "[          2*exp(-r)*sin(2*phi)/r]])"
            ],
            "text/latex": "$\\displaystyle \\left[\\begin{matrix}e^{- r} \\sin{\\left(\\theta \\right)} \\cos{\\left(2 \\phi \\right)}\\\\- \\frac{e^{- r} \\cos{\\left(2 \\phi \\right)} \\cos{\\left(\\theta \\right)}}{r}\\\\\\frac{2 e^{- r} \\sin{\\left(2 \\phi \\right)}}{r}\\end{matrix}\\right]$"
          },
          "metadata": {}
        }
      ]
    }
  ]
}